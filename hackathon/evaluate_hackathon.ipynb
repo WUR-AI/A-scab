{
  "nbformat": 4,
  "nbformat_minor": 0,
  "metadata": {
    "colab": {
      "provenance": []
    },
    "kernelspec": {
      "name": "python3",
      "display_name": "Python 3"
    },
    "language_info": {
      "name": "python"
    }
  },
  "cells": [
    {
      "cell_type": "code",
      "execution_count": null,
      "metadata": {
        "collapsed": true,
        "id": "JbEOFLlu9YMV"
      },
      "outputs": [],
      "source": [
        "import os\n",
        "import sys\n",
        "import subprocess\n",
        "\n",
        "# Clone the repository\n",
        "!rm -rf A-scab/\n",
        "!git clone -b hackathon https://github.com/WUR-AI/A-scab.git\n",
        "\n",
        "# Change directory\n",
        "%cd A-scab\n",
        "\n",
        "# Get the absolute path of the project root *after* changing directory\n",
        "PROJECT_ROOT = os.getcwd()\n",
        "\n",
        "# Install poetry if needed.\n",
        "!pip install -qqq poetry\n",
        "\n",
        "# Configure poetry to create virtual environments in the project directory\n",
        "!poetry config virtualenvs.in-project true\n",
        "\n",
        "# Install project dependencies\n",
        "# This step may take some time (e.g., 5 minutes)\n",
        "!poetry install --quiet --all-extras\n",
        "\n",
        "# These are things you don't need to know about for now :)\n",
        "\n",
        "# 1. Add the project root to sys.path\n",
        "if PROJECT_ROOT not in sys.path:\n",
        "    sys.path.insert(0, PROJECT_ROOT)\n",
        "    print(f\"Added project root {PROJECT_ROOT} to sys.path\")\n",
        "\n",
        "# 2. Get the path to the site-packages directory of the poetry virtual environment\n",
        "try:\n",
        "    venv_path_output = subprocess.check_output(['poetry', 'env', 'info', '--path']).decode('utf-8').strip()\n",
        "    python_version_major_minor = f\"python{sys.version_info.major}.{sys.version_info.minor}\"\n",
        "    SITE_PACKAGES_PATH = os.path.join(venv_path_output, 'lib', python_version_major_minor, 'site-packages')\n",
        "except Exception as e:\n",
        "    print(f\"Could not determine poetry venv site-packages path using 'poetry env info': {e}\")\n",
        "    print(\"Attempting a common fallback path structure...\")\n",
        "    SITE_PACKAGES_PATH = os.path.abspath(os.path.join('.venv', 'lib', f'python{sys.version_info.major}.{sys.version_info.minor}', 'site-packages'))\n",
        "\n",
        "# 3. Add the site-packages directory to sys.path\n",
        "if os.path.exists(SITE_PACKAGES_PATH) and SITE_PACKAGES_PATH not in sys.path:\n",
        "    sys.path.insert(0, SITE_PACKAGES_PATH)\n",
        "    print(f\"Added {SITE_PACKAGES_PATH} to sys.path\")\n",
        "else:\n",
        "    print(f\"Warning: Could not find site-packages at {SITE_PACKAGES_PATH} or it's already in sys.path.\")\n",
        "\n",
        "import ascab\n",
        "import gymnasium as gym"
      ]
    },
    {
      "cell_type": "code",
      "source": [
        "# RL agent\n",
        "\n",
        "# First upload your agent, then run it\n",
        "\n",
        "from ascab.train import RLAgent\n",
        "from ascab.utils.plot import plot_results\n",
        "from stable_baselines3 import PPO, SAC, TD3, DQN, HER\n",
        "\n",
        "ascab_val = gym.make('AscabValEnv-Discrete')\n",
        "path_model='/content/rl_agent'\n",
        "algo=DQN\n",
        "observation_filter=list(ascab_val.observation_space.keys())\n",
        "\n",
        "rl_agent = RLAgent(\n",
        "    ascab_test=ascab_val,\n",
        "    observation_filter=list(ascab_val.observation_space.keys()),\n",
        "    path_model=path_model,\n",
        "    rl_algorithm=algo\n",
        ")\n",
        "results = rl_agent.run()"
      ],
      "metadata": {
        "id": "ie87FqGbib0p"
      },
      "execution_count": null,
      "outputs": []
    },
    {
      "cell_type": "code",
      "source": [
        "# Conditional agent\n",
        "\n",
        "from datetime import datetime\n",
        "from ascab.train import BaseAgent\n",
        "from ascab.env.env import AScabEnv\n",
        "\n",
        "ascab_val = gym.make('AscabValEnv-Continuous-NonRL')\n",
        "\n",
        "# First define the class, not forgetting to SubClass `BaseAgent`\n",
        "# In general, you want to change the `get_action` method to apply your conditional spraying strategy\n",
        "class HowMyLocalFarmerSprays(BaseAgent):\n",
        "    def __init__(\n",
        "        self,\n",
        "        ascab: AScabEnv = None,\n",
        "        render: bool = False,\n",
        "    ):\n",
        "        super().__init__(ascab=ascab, render=render)\n",
        "\n",
        "    def get_action(self, observation: dict = None) -> float:\n",
        "        # The code below means: \"If it is forecasted that it will rain in two days, I will spray today\".\n",
        "        if self.ascab.get_wrapper_attr(\"info\")[\"Forecast_day2_HasRain\"] and self.ascab.get_wrapper_attr(\"info\")[\"Forecast_day2_HasRain\"][-1]:\n",
        "            return 1.0  # the agent sprays this much if is forecasted to rain in two days\n",
        "        return 0.0\n",
        "\n",
        "farmer_strategy = HowMyLocalFarmerSprays(ascab_val)\n",
        "\n",
        "# Use the class method below to run your agent!\n",
        "results = farmer_strategy.run()"
      ],
      "metadata": {
        "colab": {
          "base_uri": "https://localhost:8080/"
        },
        "id": "1WLoBrFnz6fi",
        "outputId": "1f4b902d-9bc5-4bca-c07e-08bf09eb5a49"
      },
      "execution_count": 10,
      "outputs": [
        {
          "output_type": "stream",
          "name": "stdout",
          "text": [
            "Reward: -0.3506618066521444\n",
            "Reward: -0.45003198230700403\n",
            "Reward: -0.4000660617666953\n",
            "Reward: -0.2750000104282679\n"
          ]
        }
      ]
    },
    {
      "cell_type": "code",
      "source": [
        "dict_to_plot = {\"Results\":results}\n",
        "plot_results(dict_to_plot, save_path=os.getcwd())"
      ],
      "metadata": {
        "id": "L1W7c_0jzjKO"
      },
      "execution_count": null,
      "outputs": []
    }
  ]
}